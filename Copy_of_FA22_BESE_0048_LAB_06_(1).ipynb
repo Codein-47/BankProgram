{
  "nbformat": 4,
  "nbformat_minor": 0,
  "metadata": {
    "colab": {
      "provenance": []
    },
    "kernelspec": {
      "name": "python3",
      "display_name": "Python 3"
    },
    "language_info": {
      "name": "python"
    }
  },
  "cells": [
    {
      "cell_type": "markdown",
      "source": [
        "#QUESTION # 1"
      ],
      "metadata": {
        "id": "ZhL1ECaKk3k0"
      }
    },
    {
      "cell_type": "code",
      "execution_count": null,
      "metadata": {
        "id": "ZadFtPiFM0mA",
        "colab": {
          "base_uri": "https://localhost:8080/"
        },
        "outputId": "4f025b6e-0cb8-4938-cfde-18e3abdf4cc0"
      },
      "outputs": [
        {
          "output_type": "stream",
          "name": "stdout",
          "text": [
            "Name:Subhan\n",
            "Age:0\n",
            "Grade:7\n"
          ]
        }
      ],
      "source": [
        "class Student:\n",
        "  def __init__(self):\n",
        "    self.__name = \"Unknown\"\n",
        "    self.__age = 0\n",
        "    self.__grade = 1\n",
        "\n",
        "  def set_details(self,name,age,grade):\n",
        "\n",
        "    if name==str(name):\n",
        "     self.__name = name\n",
        "    if age>=1 :\n",
        "     self.__age  = age\n",
        "    if 1<=grade<=12:\n",
        "     self.__grade = grade\n",
        "\n",
        "\n",
        "\n",
        "  def get_details(self):\n",
        "     print(f\"Name:{self.__name}\\nAge:{self.__age}\\nGrade:{self.__grade}\")\n",
        "\n",
        "obj1 = Student()\n",
        "obj1.set_details(\"Subhan\",-1,7)\n",
        "obj1.get_details()"
      ]
    },
    {
      "cell_type": "markdown",
      "source": [
        "#QUESTION # 2"
      ],
      "metadata": {
        "id": "Z3UWwrKCk8K7"
      }
    },
    {
      "cell_type": "code",
      "source": [
        "import random\n",
        "class Bankaccount:\n",
        "  def __init__(self,balance):\n",
        "    self.__Balance = balance\n",
        "\n",
        "  def set_deposit(self,amount):\n",
        "    if amount ==0:\n",
        "      print(\"Invalid Amount\")\n",
        "    else:\n",
        "      balance = amount + self.__Balance\n",
        "      print(f\"Account Balance:{self.__Balance}\\nBalance After deposit:{balance}\")\n",
        "      self.__Balance = balance\n",
        "\n",
        "  def withdraw(self,withdraw):\n",
        "    if  self.__Balance > withdraw:\n",
        "      final_balance = self.__Balance - withdraw\n",
        "      print(f\"Balance After withdrawing:{final_balance}\\nYou Have withdrawn:{withdraw}\")\n",
        "      self.__Balance = final_balance\n",
        "    else:\n",
        "      print(\"Insufficient Balance\")\n",
        "\n",
        "  def get_balance(self):\n",
        "    print(f\"Account Balance:{self.__Balance}\")\n",
        "\n",
        "  def generate_account_number(self):\n",
        "        account_number = random.randint(10000, 99990)\n",
        "        print(f\"your Account Number: {account_number}\")\n",
        "\n",
        "  def account_holder(self):\n",
        "    Name = input(\"Enter your name:\")\n",
        "    print(f\"Account Holder:{Name}\")\n",
        "\n",
        "\n",
        "acc1 = Bankaccount(500)\n",
        "acc1.account_holder()\n",
        "acc1.generate_account_number()\n",
        "acc1.set_deposit(200)\n",
        "acc1.withdraw(100)\n",
        "acc1.get_balance()\n"
      ],
      "metadata": {
        "id": "GO95ukQZZBuf",
        "colab": {
          "base_uri": "https://localhost:8080/"
        },
        "outputId": "c75e4014-c9cb-4099-cca1-5fa7da73c300"
      },
      "execution_count": null,
      "outputs": [
        {
          "output_type": "stream",
          "name": "stdout",
          "text": [
            "Enter your name:Subhan Ahmed\n",
            "Account Holder:Subhan Ahmed\n",
            "your Account Number: 31594\n",
            "Account Balance:500\n",
            "Balance After deposit:700\n",
            "Balance After withdrawing:600\n",
            "You Have withdrawn:100\n",
            "Account Balance:600\n"
          ]
        }
      ]
    },
    {
      "cell_type": "code",
      "source": [],
      "metadata": {
        "id": "SW9Bs6ExtxEG"
      },
      "execution_count": null,
      "outputs": []
    }
  ]
}